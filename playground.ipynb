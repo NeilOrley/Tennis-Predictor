{
 "cells": [
  {
   "cell_type": "code",
   "execution_count": null,
   "id": "623aa7e7",
   "metadata": {},
   "outputs": [],
   "source": [
    "\n",
    "import pandas as pd\n",
    "from features import enrich_features, load_h2h_dict, load_recent_form_dict\n",
    "from predict import predict_match\n",
    "\n",
    "# Exemple de match à tester\n",
    "match = {\n",
    "    'Player_1': 'Alcaraz C.',\n",
    "    'Player_2': 'Sinner J.',\n",
    "    'Rank_1': 2,\n",
    "    'Rank_2': 4,\n",
    "    'Pts_1': 8000,\n",
    "    'Pts_2': 7200,\n",
    "    'Odd_1': 1.80,\n",
    "    'Odd_2': 2.00,\n",
    "    'Surface': 'Hard',\n",
    "    'Court': 'Outdoor',\n",
    "    'Best of': 3,\n",
    "    'Round': 'Quarterfinal'\n",
    "}\n",
    "\n",
    "# Chargement des dictionnaires\n",
    "df_input = pd.DataFrame([match])\n",
    "h2h_dict = load_h2h_dict(\"models/h2h_dict.pkl\")\n",
    "form_dict = load_recent_form_dict(\"models/recent_form_dict.pkl\")\n",
    "df_input = enrich_features(df_input, h2h_dict, form_dict)\n",
    "\n",
    "# Prédiction\n",
    "result = predict_match(df_input.iloc[0].to_dict(), model_path=\"models/tennis_win_predictor.pkl\")\n",
    "print(result)\n"
   ]
  }
 ],
 "metadata": {},
 "nbformat": 4,
 "nbformat_minor": 5
}
